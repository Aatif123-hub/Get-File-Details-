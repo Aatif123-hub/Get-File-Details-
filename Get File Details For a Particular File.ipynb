{
 "cells": [
  {
   "cell_type": "code",
   "execution_count": 1,
   "id": "fb82ee5f",
   "metadata": {},
   "outputs": [
    {
     "name": "stdout",
     "output_type": "stream",
     "text": [
      "Filename : spam.csv\n",
      "Filetype: text/plain\n",
      "Current working directory : C:\\Users\\HP\\Internship Files\n",
      "Accessed On: 2022-09-19 16:54:39\n",
      "Modified on: 2022-09-14 11:06:46\n",
      "Created on : 2022-09-03 11:31:07\n",
      "File Size  : 503665 bytes\n"
     ]
    }
   ],
   "source": [
    "import datetime\n",
    "import os\n",
    "import time\n",
    "import magic\n",
    "from pathlib import Path\n",
    "\n",
    "path = 'spam.csv'\n",
    "\n",
    "print('Filename :',path)\n",
    "\n",
    "f_type=magic.from_file(path, mime = True)\n",
    "print('Filetype:',f_type)\n",
    "\n",
    "w_dr=os.getcwd()\n",
    "print('Current working directory :',w_dr)\n",
    "\n",
    "\n",
    "\n",
    "Ac_time = os.path.getatime(path)\n",
    "T_stamp1 = time.strftime('%Y-%m-%d %H:%M:%S', time.localtime(Ac_time))\n",
    "print('Accessed On:',T_stamp1)\n",
    "\n",
    "m_time = os.path.getmtime(path)\n",
    "m_ti = time.ctime(m_time)\n",
    "t_obj = time.strptime(m_ti)\n",
    "T_stamp2 = time.strftime(\"%Y-%m-%d %H:%M:%S\", t_obj)\n",
    "print('Modified on:',T_stamp2)\n",
    "\n",
    "c_time = os.path.getctime(path)\n",
    "c_ti = time.ctime(c_time)\n",
    "t_obj1 = time.strptime(c_ti)\n",
    "T_stamp3 = time.strftime(\"%Y-%m-%d %H:%M:%S\", t_obj1)\n",
    "print('Created on :',T_stamp3)\n",
    "\n",
    "f_sz=os.path.getsize(path)\n",
    "print(\"File Size  :\",f_sz, \"bytes\")"
   ]
  }
 ],
 "metadata": {
  "kernelspec": {
   "display_name": "Python 3 (ipykernel)",
   "language": "python",
   "name": "python3"
  },
  "language_info": {
   "codemirror_mode": {
    "name": "ipython",
    "version": 3
   },
   "file_extension": ".py",
   "mimetype": "text/x-python",
   "name": "python",
   "nbconvert_exporter": "python",
   "pygments_lexer": "ipython3",
   "version": "3.9.12"
  }
 },
 "nbformat": 4,
 "nbformat_minor": 5
}
